{
 "cells": [
  {
   "cell_type": "code",
   "execution_count": 2,
   "metadata": {},
   "outputs": [],
   "source": [
    "import pandas                   as pd\n",
    "import statsmodels.api          as sm\n",
    "from statsmodels.formula.api    import ols\n",
    "import pingouin                 as pg\n",
    "import matplotlib.pyplot        as plt\n",
    "from sklearn.preprocessing      import StandardScaler\n",
    "from sklearn.decomposition      import PCA\n",
    "import mpl_axes_aligner\n",
    "\n",
    "DfPlayerNBA = pd.read_excel(\"BBDD_Player.xlsx\")"
   ]
  }
 ],
 "metadata": {
  "kernelspec": {
   "display_name": "Python 3",
   "language": "python",
   "name": "python3"
  },
  "language_info": {
   "codemirror_mode": {
    "name": "ipython",
    "version": 3
   },
   "file_extension": ".py",
   "mimetype": "text/x-python",
   "name": "python",
   "nbconvert_exporter": "python",
   "pygments_lexer": "ipython3",
   "version": "3.10.7"
  }
 },
 "nbformat": 4,
 "nbformat_minor": 2
}
