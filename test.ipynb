{
 "cells": [
  {
   "cell_type": "code",
   "execution_count": 18,
   "metadata": {},
   "outputs": [],
   "source": [
    "import pandas                   as pd\n",
    "import statsmodels.api          as sm\n",
    "from statsmodels.formula.api    import ols\n",
    "import pingouin                 as pg\n",
    "import matplotlib.pyplot        as plt\n",
    "from sklearn.preprocessing      import StandardScaler\n",
    "from sklearn.decomposition      import PCA\n",
    "import mpl_axes_aligner\n",
    "\n",
    "DfPlayerNBA             = pd.read_excel(\"BBDD_Player.xlsx\")\n",
    "DfPlayerNBA             = DfPlayerNBA.loc[(DfPlayerNBA[\"GP\"]>=max(DfPlayerNBA[\"GP\"])/2) & (DfPlayerNBA[\"MIN\"]/DfPlayerNBA[\"GP\"]>=8),]\n",
    "DfPlayerNBA[\"Age_Group\"] = pd.cut(DfPlayerNBA['Age'], bins=[min(DfPlayerNBA['Age']), 25, 30, max(DfPlayerNBA['Age'])], labels=['Young Player', 'Mid-Age Player', 'Veteran Player'])"
   ]
  },
  {
   "cell_type": "code",
   "execution_count": 15,
   "metadata": {},
   "outputs": [],
   "source": [
    "DfPlayer_Manova = DfPlayerNBA[[\"Player\", \"Age\", \"Age_Group\" ,\"Position\", \"PIE\", \"USG%\"]]"
   ]
  },
  {
   "cell_type": "code",
   "execution_count": 17,
   "metadata": {},
   "outputs": [
    {
     "data": {
      "text/html": [
       "<div>\n",
       "<style scoped>\n",
       "    .dataframe tbody tr th:only-of-type {\n",
       "        vertical-align: middle;\n",
       "    }\n",
       "\n",
       "    .dataframe tbody tr th {\n",
       "        vertical-align: top;\n",
       "    }\n",
       "\n",
       "    .dataframe thead th {\n",
       "        text-align: right;\n",
       "    }\n",
       "</style>\n",
       "<table border=\"1\" class=\"dataframe\">\n",
       "  <thead>\n",
       "    <tr style=\"text-align: right;\">\n",
       "      <th></th>\n",
       "      <th>count</th>\n",
       "      <th>mean</th>\n",
       "      <th>std</th>\n",
       "      <th>min</th>\n",
       "      <th>25%</th>\n",
       "      <th>50%</th>\n",
       "      <th>75%</th>\n",
       "      <th>max</th>\n",
       "    </tr>\n",
       "    <tr>\n",
       "      <th>Position</th>\n",
       "      <th></th>\n",
       "      <th></th>\n",
       "      <th></th>\n",
       "      <th></th>\n",
       "      <th></th>\n",
       "      <th></th>\n",
       "      <th></th>\n",
       "      <th></th>\n",
       "    </tr>\n",
       "  </thead>\n",
       "  <tbody>\n",
       "    <tr>\n",
       "      <th>Center</th>\n",
       "      <td>1968.0</td>\n",
       "      <td>10.13</td>\n",
       "      <td>3.45</td>\n",
       "      <td>0.0</td>\n",
       "      <td>7.8</td>\n",
       "      <td>10.0</td>\n",
       "      <td>12.3</td>\n",
       "      <td>23.0</td>\n",
       "    </tr>\n",
       "    <tr>\n",
       "      <th>Fordward</th>\n",
       "      <td>2603.0</td>\n",
       "      <td>9.43</td>\n",
       "      <td>3.14</td>\n",
       "      <td>-0.3</td>\n",
       "      <td>7.3</td>\n",
       "      <td>9.2</td>\n",
       "      <td>11.1</td>\n",
       "      <td>23.9</td>\n",
       "    </tr>\n",
       "    <tr>\n",
       "      <th>Guard</th>\n",
       "      <td>4121.0</td>\n",
       "      <td>9.33</td>\n",
       "      <td>2.85</td>\n",
       "      <td>0.2</td>\n",
       "      <td>7.4</td>\n",
       "      <td>9.1</td>\n",
       "      <td>11.0</td>\n",
       "      <td>23.0</td>\n",
       "    </tr>\n",
       "  </tbody>\n",
       "</table>\n",
       "</div>"
      ],
      "text/plain": [
       "           count   mean   std  min  25%   50%   75%   max\n",
       "Position                                                 \n",
       "Center    1968.0  10.13  3.45  0.0  7.8  10.0  12.3  23.0\n",
       "Fordward  2603.0   9.43  3.14 -0.3  7.3   9.2  11.1  23.9\n",
       "Guard     4121.0   9.33  2.85  0.2  7.4   9.1  11.0  23.0"
      ]
     },
     "execution_count": 17,
     "metadata": {},
     "output_type": "execute_result"
    }
   ],
   "source": [
    "PieStats_by_Position = DfPlayer_Manova.groupby('Position')['PIE'].describe().round(2)\n",
    "\n",
    "PieStats_by_Position"
   ]
  }
 ],
 "metadata": {
  "kernelspec": {
   "display_name": "Python 3",
   "language": "python",
   "name": "python3"
  },
  "language_info": {
   "codemirror_mode": {
    "name": "ipython",
    "version": 3
   },
   "file_extension": ".py",
   "mimetype": "text/x-python",
   "name": "python",
   "nbconvert_exporter": "python",
   "pygments_lexer": "ipython3",
   "version": "3.11.2"
  }
 },
 "nbformat": 4,
 "nbformat_minor": 2
}
